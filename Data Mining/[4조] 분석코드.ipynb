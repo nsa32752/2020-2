{
 "cells": [
  {
   "cell_type": "code",
   "execution_count": 1,
   "metadata": {},
   "outputs": [],
   "source": [
    "from sklearn.metrics import accuracy_score, classification_report, confusion_matrix, precision_score, recall_score, f1_score, mean_squared_error, roc_curve\n",
    "# sklearn.metrics -  scikit-learn 패키지 중 모델 평가에 사용되는 모듈\n",
    "## lassification_report - sklearn.metrics 패키지의 모듈 중 주요 분류 측정 항목을 보여주는 보고서 모듈\n",
    "## confusion_matrix - 분류의 정확성을 평가하기 위한 오차행렬 계산 모듈\n",
    "\n",
    "from sklearn.model_selection import train_test_split, cross_val_score, GridSearchCV\n",
    "# sklearn.model_selection - scikit-learn 패키지 중 클래스를 나눌 때, 함수를 통해 train/test셋을 나눌 때, 모델 검증에 쓰는 서브 패키지\n",
    "## train_test_split - sklearn.model_selection 패키지의 모듈중 배열 또는 행렬을 임의의 훈련 및 테스트 셋으로 분할하는 모듈\n",
    "\n",
    "from sklearn.tree import DecisionTreeClassifier\n",
    "# sklearn.tree - scikit-learn 패키지 중 분류 및 회귀를 위한 의사결정 트리 기반 모델이있는 서브 패키지\n",
    "## DecisionTreeClassifier - sklearn.tree 패키지의 모듈 중 의사결정 트리 분류 모듈\n",
    "\n",
    "from IPython.display import Image\n",
    "# Iphython.display - Ipython 내에 정보를 보여주는 도구용도의 공용 API\n",
    "## Image - IPython.display API 모듈 중 원시(raw)데이터가 있는 png나 jpeg등의 이미지 객체를 만드는 모듈\n",
    "\n",
    "from sklearn.preprocessing import StandardScaler, OneHotEncoder\n",
    "# StandardScaler - 평균을 제거하고 데이터를 단위 분산으로 조정하나 이상치가 있다면 데이터의 확산이 매우 달라짐\n",
    "\n",
    "import pandas as pd\n",
    "# pandas - 데이터를 구조화된 형식으로 가공 및 분석할 수 있도록 자료구조를 제공하는 패키지\n",
    "\n",
    "import numpy as np\n",
    "# numpy -  Numerical Python으로 고성능 계산이나 데이터 분석에 유용한 패키지\n",
    "\n",
    "\n",
    "import warnings\n",
    "warnings.filterwarnings(\"ignore\", category=FutureWarning)\n",
    "import seaborn as sns\n",
    "from patsy import dmatrices\n",
    "import matplotlib.pyplot as plt\n",
    "from sklearn import preprocessing\n",
    "from sklearn.decomposition import PCA\n",
    "from sklearn.datasets import make_classification\n",
    "from sklearn.decomposition import PCA\n",
    "from imblearn.over_sampling import SMOTE\n",
    "from imblearn.over_sampling import SMOTENC\n",
    "from sklearn.ensemble import RandomForestClassifier, VotingClassifier, BaggingClassifier, AdaBoostClassifier, ExtraTreesClassifier\n",
    "from sklearn.neighbors import KNeighborsClassifier\n",
    "from sklearn.linear_model import LogisticRegression\n",
    "from statsmodels.stats.outliers_influence import variance_inflation_factor\n",
    "from sklearn import datasets\n",
    "from sklearn.ensemble import AdaBoostRegressor"
   ]
  },
  {
   "cell_type": "code",
   "execution_count": 2,
   "metadata": {},
   "outputs": [
    {
     "data": {
      "text/html": [
       "<div>\n",
       "<style scoped>\n",
       "    .dataframe tbody tr th:only-of-type {\n",
       "        vertical-align: middle;\n",
       "    }\n",
       "\n",
       "    .dataframe tbody tr th {\n",
       "        vertical-align: top;\n",
       "    }\n",
       "\n",
       "    .dataframe thead th {\n",
       "        text-align: right;\n",
       "    }\n",
       "</style>\n",
       "<table border=\"1\" class=\"dataframe\">\n",
       "  <thead>\n",
       "    <tr style=\"text-align: right;\">\n",
       "      <th></th>\n",
       "      <th>id</th>\n",
       "      <th>Gender</th>\n",
       "      <th>Age</th>\n",
       "      <th>Driving_License</th>\n",
       "      <th>Region_Code</th>\n",
       "      <th>Previously_Insured</th>\n",
       "      <th>Vehicle_Age</th>\n",
       "      <th>Vehicle_Damage</th>\n",
       "      <th>Annual_Premium</th>\n",
       "      <th>Policy_Sales_Channel</th>\n",
       "      <th>Vintage</th>\n",
       "      <th>Response</th>\n",
       "    </tr>\n",
       "  </thead>\n",
       "  <tbody>\n",
       "    <tr>\n",
       "      <th>0</th>\n",
       "      <td>1</td>\n",
       "      <td>Male</td>\n",
       "      <td>44</td>\n",
       "      <td>1</td>\n",
       "      <td>28.0</td>\n",
       "      <td>0</td>\n",
       "      <td>&gt; 2 Years</td>\n",
       "      <td>Yes</td>\n",
       "      <td>40454.0</td>\n",
       "      <td>26.0</td>\n",
       "      <td>217</td>\n",
       "      <td>1</td>\n",
       "    </tr>\n",
       "    <tr>\n",
       "      <th>1</th>\n",
       "      <td>2</td>\n",
       "      <td>Male</td>\n",
       "      <td>76</td>\n",
       "      <td>1</td>\n",
       "      <td>3.0</td>\n",
       "      <td>0</td>\n",
       "      <td>1-2 Year</td>\n",
       "      <td>No</td>\n",
       "      <td>33536.0</td>\n",
       "      <td>26.0</td>\n",
       "      <td>183</td>\n",
       "      <td>0</td>\n",
       "    </tr>\n",
       "    <tr>\n",
       "      <th>2</th>\n",
       "      <td>3</td>\n",
       "      <td>Male</td>\n",
       "      <td>47</td>\n",
       "      <td>1</td>\n",
       "      <td>28.0</td>\n",
       "      <td>0</td>\n",
       "      <td>&gt; 2 Years</td>\n",
       "      <td>Yes</td>\n",
       "      <td>38294.0</td>\n",
       "      <td>26.0</td>\n",
       "      <td>27</td>\n",
       "      <td>1</td>\n",
       "    </tr>\n",
       "    <tr>\n",
       "      <th>3</th>\n",
       "      <td>4</td>\n",
       "      <td>Male</td>\n",
       "      <td>21</td>\n",
       "      <td>1</td>\n",
       "      <td>11.0</td>\n",
       "      <td>1</td>\n",
       "      <td>&lt; 1 Year</td>\n",
       "      <td>No</td>\n",
       "      <td>28619.0</td>\n",
       "      <td>152.0</td>\n",
       "      <td>203</td>\n",
       "      <td>0</td>\n",
       "    </tr>\n",
       "    <tr>\n",
       "      <th>4</th>\n",
       "      <td>5</td>\n",
       "      <td>Female</td>\n",
       "      <td>29</td>\n",
       "      <td>1</td>\n",
       "      <td>41.0</td>\n",
       "      <td>1</td>\n",
       "      <td>&lt; 1 Year</td>\n",
       "      <td>No</td>\n",
       "      <td>27496.0</td>\n",
       "      <td>152.0</td>\n",
       "      <td>39</td>\n",
       "      <td>0</td>\n",
       "    </tr>\n",
       "  </tbody>\n",
       "</table>\n",
       "</div>"
      ],
      "text/plain": [
       "   id  Gender  Age  Driving_License  Region_Code  Previously_Insured  \\\n",
       "0   1    Male   44                1         28.0                   0   \n",
       "1   2    Male   76                1          3.0                   0   \n",
       "2   3    Male   47                1         28.0                   0   \n",
       "3   4    Male   21                1         11.0                   1   \n",
       "4   5  Female   29                1         41.0                   1   \n",
       "\n",
       "  Vehicle_Age Vehicle_Damage  Annual_Premium  Policy_Sales_Channel  Vintage  \\\n",
       "0   > 2 Years            Yes         40454.0                  26.0      217   \n",
       "1    1-2 Year             No         33536.0                  26.0      183   \n",
       "2   > 2 Years            Yes         38294.0                  26.0       27   \n",
       "3    < 1 Year             No         28619.0                 152.0      203   \n",
       "4    < 1 Year             No         27496.0                 152.0       39   \n",
       "\n",
       "   Response  \n",
       "0         1  \n",
       "1         0  \n",
       "2         1  \n",
       "3         0  \n",
       "4         0  "
      ]
     },
     "execution_count": 2,
     "metadata": {},
     "output_type": "execute_result"
    }
   ],
   "source": [
    "data_A = pd.read_csv(\"train.csv\")\n",
    "data_A.head()"
   ]
  },
  {
   "cell_type": "code",
   "execution_count": 3,
   "metadata": {},
   "outputs": [],
   "source": [
    "# 범주형 변수 중 str형식으로 되어있는 변수 0,1,2로 변경\n",
    "# 범주형 변수: Gender, Driving_License, Region_Code, Previously_Insured, Vehicle_Age, Vehicle_Damage, Response, Policy_Sales_Channel\n",
    "# Gender: Male-1, Female-0\n",
    "data_A.loc[data_A[\"Gender\"] == \"Female\",\"Gender\"] = 0\n",
    "data_A.loc[data_A[\"Gender\"] == \"Male\",\"Gender\"] = 1\n",
    "# Vehicle_Age: <1-0, 1-2:1, >2:2\n",
    "data_A.loc[data_A[\"Vehicle_Age\"] == \"< 1 Year\",\"Vehicle_Age\"] = 0\n",
    "data_A.loc[data_A[\"Vehicle_Age\"] == \"1-2 Year\",\"Vehicle_Age\"] = 1\n",
    "data_A.loc[data_A[\"Vehicle_Age\"] == \"> 2 Years\",\"Vehicle_Age\"] = 2\n",
    "# Vehicle_Damage: Yes-1, No-1\n",
    "data_A.loc[data_A[\"Vehicle_Damage\"] == \"No\",\"Vehicle_Damage\"] = 0\n",
    "data_A.loc[data_A[\"Vehicle_Damage\"] == \"Yes\",\"Vehicle_Damage\"] = 1"
   ]
  },
  {
   "cell_type": "code",
   "execution_count": 4,
   "metadata": {},
   "outputs": [
    {
     "name": "stdout",
     "output_type": "stream",
     "text": [
      "<class 'pandas.core.frame.DataFrame'>\n",
      "RangeIndex: 381109 entries, 0 to 381108\n",
      "Data columns (total 12 columns):\n",
      " #   Column                Non-Null Count   Dtype  \n",
      "---  ------                --------------   -----  \n",
      " 0   id                    381109 non-null  int64  \n",
      " 1   Gender                381109 non-null  object \n",
      " 2   Age                   381109 non-null  int64  \n",
      " 3   Driving_License       381109 non-null  int64  \n",
      " 4   Region_Code           381109 non-null  float64\n",
      " 5   Previously_Insured    381109 non-null  int64  \n",
      " 6   Vehicle_Age           381109 non-null  object \n",
      " 7   Vehicle_Damage        381109 non-null  object \n",
      " 8   Annual_Premium        381109 non-null  float64\n",
      " 9   Policy_Sales_Channel  381109 non-null  float64\n",
      " 10  Vintage               381109 non-null  int64  \n",
      " 11  Response              381109 non-null  int64  \n",
      "dtypes: float64(3), int64(6), object(3)\n",
      "memory usage: 34.9+ MB\n"
     ]
    },
    {
     "data": {
      "text/html": [
       "<div>\n",
       "<style scoped>\n",
       "    .dataframe tbody tr th:only-of-type {\n",
       "        vertical-align: middle;\n",
       "    }\n",
       "\n",
       "    .dataframe tbody tr th {\n",
       "        vertical-align: top;\n",
       "    }\n",
       "\n",
       "    .dataframe thead th {\n",
       "        text-align: right;\n",
       "    }\n",
       "</style>\n",
       "<table border=\"1\" class=\"dataframe\">\n",
       "  <thead>\n",
       "    <tr style=\"text-align: right;\">\n",
       "      <th></th>\n",
       "      <th>id</th>\n",
       "      <th>Gender</th>\n",
       "      <th>Age</th>\n",
       "      <th>Driving_License</th>\n",
       "      <th>Region_Code</th>\n",
       "      <th>Previously_Insured</th>\n",
       "      <th>Vehicle_Age</th>\n",
       "      <th>Vehicle_Damage</th>\n",
       "      <th>Annual_Premium</th>\n",
       "      <th>Policy_Sales_Channel</th>\n",
       "      <th>Vintage</th>\n",
       "      <th>Response</th>\n",
       "    </tr>\n",
       "  </thead>\n",
       "  <tbody>\n",
       "    <tr>\n",
       "      <th>0</th>\n",
       "      <td>1</td>\n",
       "      <td>1</td>\n",
       "      <td>44</td>\n",
       "      <td>1</td>\n",
       "      <td>28.0</td>\n",
       "      <td>0</td>\n",
       "      <td>2</td>\n",
       "      <td>1</td>\n",
       "      <td>40454.0</td>\n",
       "      <td>26.0</td>\n",
       "      <td>217</td>\n",
       "      <td>1</td>\n",
       "    </tr>\n",
       "    <tr>\n",
       "      <th>1</th>\n",
       "      <td>2</td>\n",
       "      <td>1</td>\n",
       "      <td>76</td>\n",
       "      <td>1</td>\n",
       "      <td>3.0</td>\n",
       "      <td>0</td>\n",
       "      <td>1</td>\n",
       "      <td>0</td>\n",
       "      <td>33536.0</td>\n",
       "      <td>26.0</td>\n",
       "      <td>183</td>\n",
       "      <td>0</td>\n",
       "    </tr>\n",
       "    <tr>\n",
       "      <th>2</th>\n",
       "      <td>3</td>\n",
       "      <td>1</td>\n",
       "      <td>47</td>\n",
       "      <td>1</td>\n",
       "      <td>28.0</td>\n",
       "      <td>0</td>\n",
       "      <td>2</td>\n",
       "      <td>1</td>\n",
       "      <td>38294.0</td>\n",
       "      <td>26.0</td>\n",
       "      <td>27</td>\n",
       "      <td>1</td>\n",
       "    </tr>\n",
       "    <tr>\n",
       "      <th>3</th>\n",
       "      <td>4</td>\n",
       "      <td>1</td>\n",
       "      <td>21</td>\n",
       "      <td>1</td>\n",
       "      <td>11.0</td>\n",
       "      <td>1</td>\n",
       "      <td>0</td>\n",
       "      <td>0</td>\n",
       "      <td>28619.0</td>\n",
       "      <td>152.0</td>\n",
       "      <td>203</td>\n",
       "      <td>0</td>\n",
       "    </tr>\n",
       "    <tr>\n",
       "      <th>4</th>\n",
       "      <td>5</td>\n",
       "      <td>0</td>\n",
       "      <td>29</td>\n",
       "      <td>1</td>\n",
       "      <td>41.0</td>\n",
       "      <td>1</td>\n",
       "      <td>0</td>\n",
       "      <td>0</td>\n",
       "      <td>27496.0</td>\n",
       "      <td>152.0</td>\n",
       "      <td>39</td>\n",
       "      <td>0</td>\n",
       "    </tr>\n",
       "  </tbody>\n",
       "</table>\n",
       "</div>"
      ],
      "text/plain": [
       "   id Gender  Age  Driving_License  Region_Code  Previously_Insured  \\\n",
       "0   1      1   44                1         28.0                   0   \n",
       "1   2      1   76                1          3.0                   0   \n",
       "2   3      1   47                1         28.0                   0   \n",
       "3   4      1   21                1         11.0                   1   \n",
       "4   5      0   29                1         41.0                   1   \n",
       "\n",
       "  Vehicle_Age Vehicle_Damage  Annual_Premium  Policy_Sales_Channel  Vintage  \\\n",
       "0           2              1         40454.0                  26.0      217   \n",
       "1           1              0         33536.0                  26.0      183   \n",
       "2           2              1         38294.0                  26.0       27   \n",
       "3           0              0         28619.0                 152.0      203   \n",
       "4           0              0         27496.0                 152.0       39   \n",
       "\n",
       "   Response  \n",
       "0         1  \n",
       "1         0  \n",
       "2         1  \n",
       "3         0  \n",
       "4         0  "
      ]
     },
     "execution_count": 4,
     "metadata": {},
     "output_type": "execute_result"
    }
   ],
   "source": [
    "data_A.info()\n",
    "data_A.head()"
   ]
  },
  {
   "cell_type": "code",
   "execution_count": 5,
   "metadata": {},
   "outputs": [],
   "source": [
    "# 데이터 타입 변경\n",
    "data_A['Gender'] = data_A['Gender'].astype('category')\n",
    "data_A['Age'] = data_A['Age'].astype('float')\n",
    "data_A['Driving_License'] = data_A['Driving_License'].astype('category')\n",
    "data_A['Region_Code'] = data_A['Region_Code'].astype('category')\n",
    "data_A['Previously_Insured'] = data_A['Previously_Insured'].astype('category')\n",
    "data_A['Vehicle_Age'] = data_A['Vehicle_Age'].astype('category')\n",
    "data_A['Vehicle_Damage'] = data_A['Vehicle_Damage'].astype('category')\n",
    "data_A['Annual_Premium'] = data_A['Annual_Premium'].astype('float')\n",
    "data_A['Policy_Sales_Channel'] = data_A['Policy_Sales_Channel'].astype('category')\n",
    "data_A['Vintage'] = data_A['Vintage'].astype('float')\n",
    "data_A['Response'] = data_A['Response'].astype('category')"
   ]
  },
  {
   "cell_type": "code",
   "execution_count": 6,
   "metadata": {},
   "outputs": [
    {
     "data": {
      "text/plain": [
       "id                         int64\n",
       "Gender                  category\n",
       "Age                      float64\n",
       "Driving_License         category\n",
       "Region_Code             category\n",
       "Previously_Insured      category\n",
       "Vehicle_Age             category\n",
       "Vehicle_Damage          category\n",
       "Annual_Premium           float64\n",
       "Policy_Sales_Channel    category\n",
       "Vintage                  float64\n",
       "Response                category\n",
       "dtype: object"
      ]
     },
     "execution_count": 6,
     "metadata": {},
     "output_type": "execute_result"
    }
   ],
   "source": [
    "# 변경된 데이터 타입 확인\n",
    "data_A.dtypes"
   ]
  },
  {
   "cell_type": "code",
   "execution_count": 7,
   "metadata": {},
   "outputs": [],
   "source": [
    "#음수값 없게  minmaxscaler 사용 (0~1)\n",
    "from sklearn.preprocessing import MinMaxScaler\n",
    "data_B = data_A\n",
    "data_B['Age'] = (data_B['Age']-data_B['Age'].min())/(data_B['Age'].max()-data_B['Age'].min())\n",
    "data_B['Annual_Premium'] = (data_B['Annual_Premium']-data_B['Annual_Premium'].min())/(data_B['Annual_Premium'].max()-data_B['Annual_Premium'].min())\n",
    "data_B['Vintage'] = (data_B['Vintage']-data_B['Vintage'].min())/(data_B['Vintage'].max()-data_B['Vintage'].min())"
   ]
  },
  {
   "cell_type": "code",
   "execution_count": 8,
   "metadata": {},
   "outputs": [
    {
     "data": {
      "text/plain": [
       "0         1\n",
       "1         0\n",
       "2         1\n",
       "3         0\n",
       "4         0\n",
       "         ..\n",
       "381104    0\n",
       "381105    0\n",
       "381106    0\n",
       "381107    0\n",
       "381108    0\n",
       "Name: Response, Length: 381109, dtype: category\n",
       "Categories (2, int64): [0, 1]"
      ]
     },
     "execution_count": 8,
     "metadata": {},
     "output_type": "execute_result"
    }
   ],
   "source": [
    "res = data_B['Response']\n",
    "res"
   ]
  },
  {
   "cell_type": "code",
   "execution_count": 9,
   "metadata": {},
   "outputs": [
    {
     "data": {
      "text/html": [
       "<div>\n",
       "<style scoped>\n",
       "    .dataframe tbody tr th:only-of-type {\n",
       "        vertical-align: middle;\n",
       "    }\n",
       "\n",
       "    .dataframe tbody tr th {\n",
       "        vertical-align: top;\n",
       "    }\n",
       "\n",
       "    .dataframe thead th {\n",
       "        text-align: right;\n",
       "    }\n",
       "</style>\n",
       "<table border=\"1\" class=\"dataframe\">\n",
       "  <thead>\n",
       "    <tr style=\"text-align: right;\">\n",
       "      <th></th>\n",
       "      <th>Gender</th>\n",
       "      <th>Age</th>\n",
       "      <th>Driving_License</th>\n",
       "      <th>Region_Code</th>\n",
       "      <th>Previously_Insured</th>\n",
       "      <th>Vehicle_Age</th>\n",
       "      <th>Vehicle_Damage</th>\n",
       "      <th>Annual_Premium</th>\n",
       "      <th>Policy_Sales_Channel</th>\n",
       "      <th>Vintage</th>\n",
       "    </tr>\n",
       "  </thead>\n",
       "  <tbody>\n",
       "    <tr>\n",
       "      <th>0</th>\n",
       "      <td>1</td>\n",
       "      <td>0.369231</td>\n",
       "      <td>1</td>\n",
       "      <td>28.0</td>\n",
       "      <td>0</td>\n",
       "      <td>2</td>\n",
       "      <td>1</td>\n",
       "      <td>0.070366</td>\n",
       "      <td>26.0</td>\n",
       "      <td>0.716263</td>\n",
       "    </tr>\n",
       "    <tr>\n",
       "      <th>1</th>\n",
       "      <td>1</td>\n",
       "      <td>0.861538</td>\n",
       "      <td>1</td>\n",
       "      <td>3.0</td>\n",
       "      <td>0</td>\n",
       "      <td>1</td>\n",
       "      <td>0</td>\n",
       "      <td>0.057496</td>\n",
       "      <td>26.0</td>\n",
       "      <td>0.598616</td>\n",
       "    </tr>\n",
       "    <tr>\n",
       "      <th>2</th>\n",
       "      <td>1</td>\n",
       "      <td>0.415385</td>\n",
       "      <td>1</td>\n",
       "      <td>28.0</td>\n",
       "      <td>0</td>\n",
       "      <td>2</td>\n",
       "      <td>1</td>\n",
       "      <td>0.066347</td>\n",
       "      <td>26.0</td>\n",
       "      <td>0.058824</td>\n",
       "    </tr>\n",
       "    <tr>\n",
       "      <th>3</th>\n",
       "      <td>1</td>\n",
       "      <td>0.015385</td>\n",
       "      <td>1</td>\n",
       "      <td>11.0</td>\n",
       "      <td>1</td>\n",
       "      <td>0</td>\n",
       "      <td>0</td>\n",
       "      <td>0.048348</td>\n",
       "      <td>152.0</td>\n",
       "      <td>0.667820</td>\n",
       "    </tr>\n",
       "    <tr>\n",
       "      <th>4</th>\n",
       "      <td>0</td>\n",
       "      <td>0.138462</td>\n",
       "      <td>1</td>\n",
       "      <td>41.0</td>\n",
       "      <td>1</td>\n",
       "      <td>0</td>\n",
       "      <td>0</td>\n",
       "      <td>0.046259</td>\n",
       "      <td>152.0</td>\n",
       "      <td>0.100346</td>\n",
       "    </tr>\n",
       "    <tr>\n",
       "      <th>...</th>\n",
       "      <td>...</td>\n",
       "      <td>...</td>\n",
       "      <td>...</td>\n",
       "      <td>...</td>\n",
       "      <td>...</td>\n",
       "      <td>...</td>\n",
       "      <td>...</td>\n",
       "      <td>...</td>\n",
       "      <td>...</td>\n",
       "      <td>...</td>\n",
       "    </tr>\n",
       "    <tr>\n",
       "      <th>381104</th>\n",
       "      <td>1</td>\n",
       "      <td>0.830769</td>\n",
       "      <td>1</td>\n",
       "      <td>26.0</td>\n",
       "      <td>1</td>\n",
       "      <td>1</td>\n",
       "      <td>0</td>\n",
       "      <td>0.051234</td>\n",
       "      <td>26.0</td>\n",
       "      <td>0.269896</td>\n",
       "    </tr>\n",
       "    <tr>\n",
       "      <th>381105</th>\n",
       "      <td>1</td>\n",
       "      <td>0.153846</td>\n",
       "      <td>1</td>\n",
       "      <td>37.0</td>\n",
       "      <td>1</td>\n",
       "      <td>0</td>\n",
       "      <td>0</td>\n",
       "      <td>0.069551</td>\n",
       "      <td>152.0</td>\n",
       "      <td>0.418685</td>\n",
       "    </tr>\n",
       "    <tr>\n",
       "      <th>381106</th>\n",
       "      <td>1</td>\n",
       "      <td>0.015385</td>\n",
       "      <td>1</td>\n",
       "      <td>30.0</td>\n",
       "      <td>1</td>\n",
       "      <td>0</td>\n",
       "      <td>0</td>\n",
       "      <td>0.060439</td>\n",
       "      <td>160.0</td>\n",
       "      <td>0.522491</td>\n",
       "    </tr>\n",
       "    <tr>\n",
       "      <th>381107</th>\n",
       "      <td>0</td>\n",
       "      <td>0.738462</td>\n",
       "      <td>1</td>\n",
       "      <td>14.0</td>\n",
       "      <td>0</td>\n",
       "      <td>2</td>\n",
       "      <td>1</td>\n",
       "      <td>0.078110</td>\n",
       "      <td>124.0</td>\n",
       "      <td>0.221453</td>\n",
       "    </tr>\n",
       "    <tr>\n",
       "      <th>381108</th>\n",
       "      <td>1</td>\n",
       "      <td>0.400000</td>\n",
       "      <td>1</td>\n",
       "      <td>29.0</td>\n",
       "      <td>0</td>\n",
       "      <td>1</td>\n",
       "      <td>0</td>\n",
       "      <td>0.072827</td>\n",
       "      <td>26.0</td>\n",
       "      <td>0.785467</td>\n",
       "    </tr>\n",
       "  </tbody>\n",
       "</table>\n",
       "<p>381109 rows × 10 columns</p>\n",
       "</div>"
      ],
      "text/plain": [
       "       Gender       Age Driving_License Region_Code Previously_Insured  \\\n",
       "0           1  0.369231               1        28.0                  0   \n",
       "1           1  0.861538               1         3.0                  0   \n",
       "2           1  0.415385               1        28.0                  0   \n",
       "3           1  0.015385               1        11.0                  1   \n",
       "4           0  0.138462               1        41.0                  1   \n",
       "...       ...       ...             ...         ...                ...   \n",
       "381104      1  0.830769               1        26.0                  1   \n",
       "381105      1  0.153846               1        37.0                  1   \n",
       "381106      1  0.015385               1        30.0                  1   \n",
       "381107      0  0.738462               1        14.0                  0   \n",
       "381108      1  0.400000               1        29.0                  0   \n",
       "\n",
       "       Vehicle_Age Vehicle_Damage  Annual_Premium Policy_Sales_Channel  \\\n",
       "0                2              1        0.070366                 26.0   \n",
       "1                1              0        0.057496                 26.0   \n",
       "2                2              1        0.066347                 26.0   \n",
       "3                0              0        0.048348                152.0   \n",
       "4                0              0        0.046259                152.0   \n",
       "...            ...            ...             ...                  ...   \n",
       "381104           1              0        0.051234                 26.0   \n",
       "381105           0              0        0.069551                152.0   \n",
       "381106           0              0        0.060439                160.0   \n",
       "381107           2              1        0.078110                124.0   \n",
       "381108           1              0        0.072827                 26.0   \n",
       "\n",
       "         Vintage  \n",
       "0       0.716263  \n",
       "1       0.598616  \n",
       "2       0.058824  \n",
       "3       0.667820  \n",
       "4       0.100346  \n",
       "...          ...  \n",
       "381104  0.269896  \n",
       "381105  0.418685  \n",
       "381106  0.522491  \n",
       "381107  0.221453  \n",
       "381108  0.785467  \n",
       "\n",
       "[381109 rows x 10 columns]"
      ]
     },
     "execution_count": 9,
     "metadata": {},
     "output_type": "execute_result"
    }
   ],
   "source": [
    "# 정규화된 데이터 확인 및 column drop\n",
    "data_B = data_B.drop(['id'], axis = 1)\n",
    "data_B = data_B.drop(['Response'], axis = 1)\n",
    "data_B"
   ]
  },
  {
   "cell_type": "code",
   "execution_count": 10,
   "metadata": {},
   "outputs": [],
   "source": [
    "# train, validation, test 데이터 분리\n",
    "X_train, X_test, y_train, y_test = train_test_split(data_B, res, test_size=0.3, random_state=0)\n",
    "X_train, X_val, y_train, y_val = train_test_split(data_B, res, test_size=0.2/0.7, random_state=0)"
   ]
  },
  {
   "cell_type": "code",
   "execution_count": 11,
   "metadata": {},
   "outputs": [],
   "source": [
    "# Smote 샘플링\n",
    "smote_nc = SMOTENC([0, 2, 3, 4, 5, 6, 8], random_state=0)\n",
    "X_resampled, y_resampled = smote_nc.fit_resample(X_train,list(y_train))"
   ]
  },
  {
   "cell_type": "markdown",
   "metadata": {},
   "source": [
    "# Bagging Ensemble "
   ]
  },
  {
   "cell_type": "code",
   "execution_count": 12,
   "metadata": {},
   "outputs": [],
   "source": [
    "# 배깅(페이스팅) 모델링(bootstrap: 배깅True(보통 선호), 페이스팅False)\n",
    "BG = BaggingClassifier(DecisionTreeClassifier(), n_estimators=100, max_samples=100, bootstrap=True, n_jobs=-1, oob_score=True,random_state=0)\n",
    "BG.fit(X_resampled, y_resampled)\n",
    "y_pred_BG = BG.predict(X_val)"
   ]
  },
  {
   "cell_type": "code",
   "execution_count": 13,
   "metadata": {},
   "outputs": [
    {
     "name": "stdout",
     "output_type": "stream",
     "text": [
      "Train data\n",
      " [[161942  76944]\n",
      " [  3216  30118]]\n",
      "validation data\n",
      " [[64522 30991]\n",
      " [ 1259 12117]]\n"
     ]
    }
   ],
   "source": [
    "# 혼동행렬\n",
    "print(\"Train data\\n\",confusion_matrix(y_train, BG.predict(X_train)))\n",
    "print(\"validation data\\n\",confusion_matrix(y_val,y_pred_BG))"
   ]
  },
  {
   "cell_type": "code",
   "execution_count": 14,
   "metadata": {},
   "outputs": [
    {
     "name": "stdout",
     "output_type": "stream",
     "text": [
      "              precision    recall  f1-score   support\n",
      "\n",
      "           0       0.98      0.68      0.80     95513\n",
      "           1       0.28      0.91      0.43     13376\n",
      "\n",
      "    accuracy                           0.70    108889\n",
      "   macro avg       0.63      0.79      0.61    108889\n",
      "weighted avg       0.89      0.70      0.75    108889\n",
      "\n"
     ]
    }
   ],
   "source": [
    "# 정확도, 재현율, f1 점수\n",
    "print(classification_report(y_val, y_pred_BG))"
   ]
  },
  {
   "cell_type": "markdown",
   "metadata": {},
   "source": [
    "# Adaboost Ensemble"
   ]
  },
  {
   "cell_type": "code",
   "execution_count": null,
   "metadata": {},
   "outputs": [],
   "source": [
    "# 아다부스트 모델링\n",
    "AD = AdaBoostClassifier(DecisionTreeClassifier(max_depth=50), n_estimators=200, learning_rate=1)\n",
    "AD.fit(X_resampled, y_resampled)\n",
    "y_pred_AD = AD.predict(X_val)"
   ]
  },
  {
   "cell_type": "code",
   "execution_count": null,
   "metadata": {},
   "outputs": [],
   "source": [
    "# 혼동행렬\n",
    "print(\"Train data\\n\",confusion_matrix(y_resampled, AD.predict(X_resampled)))\n",
    "print(\"Validation data\\n\",confusion_matrix(y_val, y_pred_AD))"
   ]
  },
  {
   "cell_type": "code",
   "execution_count": null,
   "metadata": {
    "scrolled": true
   },
   "outputs": [],
   "source": [
    "# 정확도, 재현율, f1 점수\n",
    "print(classification_report(y_val, y_pred_AD))"
   ]
  },
  {
   "cell_type": "markdown",
   "metadata": {},
   "source": [
    "# Random Forest"
   ]
  },
  {
   "cell_type": "code",
   "execution_count": null,
   "metadata": {},
   "outputs": [],
   "source": [
    "# 랜덤포레스트 모델링(criterion:분류기준,n_estimators:나무 생성 수,min_samples_split:,max_features:최대 고려 특성 수,oob_score:정확도)\n",
    "RF = RandomForestClassifier(criterion = 'entropy',n_estimators=20,min_samples_split=20,max_features=4,max_depth=12,random_state=0)\n",
    "RF.fit(X_resampled, y_resampled)\n",
    "y_pred_RF = RF.predict(X_val)\n"
   ]
  },
  {
   "cell_type": "code",
   "execution_count": null,
   "metadata": {},
   "outputs": [],
   "source": [
    "# 혼동행렬\n",
    "print(\"Train data\\n\",confusion_matrix(y_resampled, RF.predict(X_resampled)))\n",
    "print(\"Validation data\\n\",confusion_matrix(y_val, y_pred_RF))"
   ]
  },
  {
   "cell_type": "code",
   "execution_count": null,
   "metadata": {},
   "outputs": [],
   "source": [
    "# 정확도, 재현율, f1 점수\n",
    "print(classification_report(y_val, y_pred_RF))"
   ]
  },
  {
   "cell_type": "markdown",
   "metadata": {},
   "source": [
    "# Logistic Regression"
   ]
  },
  {
   "cell_type": "code",
   "execution_count": null,
   "metadata": {},
   "outputs": [],
   "source": [
    "# 로지스틱 리그레션 모델링\n",
    "LR = LogisticRegression(C=0.001,penalty=\"l2\")\n",
    "LR.fit(X_resampled,y_resampled)\n",
    "y_pred_LR = LR.predict(X_val)"
   ]
  },
  {
   "cell_type": "code",
   "execution_count": 13,
   "metadata": {},
   "outputs": [
    {
     "name": "stdout",
     "output_type": "stream",
     "text": [
      "Train data \n",
      " [[141255  97631]\n",
      " [  3257 235629]]\n",
      "Validation data \n",
      " [[56307 39206]\n",
      " [  296 13080]]\n"
     ]
    }
   ],
   "source": [
    "# 혼동행렬\n",
    "print(\"Train data\",\"\\n\",confusion_matrix(y_resampled, LR.predict(X_resampled)))\n",
    "print(\"Validation data\",\"\\n\",confusion_matrix(y_val, y_pred_LR))"
   ]
  },
  {
   "cell_type": "code",
   "execution_count": 14,
   "metadata": {},
   "outputs": [
    {
     "name": "stdout",
     "output_type": "stream",
     "text": [
      "              precision    recall  f1-score   support\n",
      "\n",
      "           0       0.99      0.59      0.74     95513\n",
      "           1       0.25      0.98      0.40     13376\n",
      "\n",
      "    accuracy                           0.64    108889\n",
      "   macro avg       0.62      0.78      0.57    108889\n",
      "weighted avg       0.90      0.64      0.70    108889\n",
      "\n"
     ]
    }
   ],
   "source": [
    "# 정확도, 재현율, f1 점수\n",
    "print(classification_report(y_val, y_pred_LR))"
   ]
  },
  {
   "cell_type": "markdown",
   "metadata": {},
   "source": [
    "# Lightgbm"
   ]
  },
  {
   "cell_type": "code",
   "execution_count": null,
   "metadata": {},
   "outputs": [],
   "source": [
    "from lightgbm import LGBMClassifier\n",
    "lgbm_clf = LGBMClassifier(n_estimators=100, subsample=0.8, n_jobs=-1, boost_from_average=False) \n",
    "lgbm_clf.fit(X_resampled, y_resampled)\n",
    "lgbm_pred = lgbm_clf.predict(X_val)"
   ]
  },
  {
   "cell_type": "code",
   "execution_count": null,
   "metadata": {},
   "outputs": [],
   "source": [
    "print(\"Train data\",\"\\n\",confusion_matrix(y_resampled, lgbm_clf.predict(X_resampled)))\n",
    "print(\"Validation data\",\"\\n\",confusion_matrix(y_val, lgbm_pred))"
   ]
  },
  {
   "cell_type": "code",
   "execution_count": null,
   "metadata": {},
   "outputs": [],
   "source": [
    "print(classification_report(y_val, lgbm_pred))"
   ]
  },
  {
   "cell_type": "markdown",
   "metadata": {},
   "source": [
    "# KNN"
   ]
  },
  {
   "cell_type": "code",
   "execution_count": null,
   "metadata": {},
   "outputs": [],
   "source": [
    "# KNN 모델링(n_neighbors: 이웃 수, p: 차원, metric: 거리 측정방법)\n",
    "KN = KNeighborsClassifier(n_neighbors=4, p=3, metric='minkowski')\n",
    "KN.fit(X_resampled, y_resampled)\n",
    "y_pred_KN = KN.predict(X_val)"
   ]
  },
  {
   "cell_type": "code",
   "execution_count": null,
   "metadata": {},
   "outputs": [],
   "source": [
    "# 혼동행렬\n",
    "print(\"Train data\",\"\\n\",confusion_matrix(y_resampled, KN.predict(X_resampled)))\n",
    "print(\"Validation data\",\"\\n\",confusion_matrix(y_val, y_pred_KN))"
   ]
  },
  {
   "cell_type": "code",
   "execution_count": null,
   "metadata": {},
   "outputs": [],
   "source": [
    "# 정확도, 재현율, f1 점수\n",
    "print(classification_report(y_val, y_pred_KN))"
   ]
  },
  {
   "cell_type": "markdown",
   "metadata": {},
   "source": [
    "# Bayes'"
   ]
  },
  {
   "cell_type": "code",
   "execution_count": 25,
   "metadata": {},
   "outputs": [],
   "source": [
    "#naive bayes' 모델링\n",
    "from sklearn.naive_bayes import MultinomialNB\n",
    "model = MultinomialNB().fit(X_resampled,y_resampled)\n",
    "y_pred_nb = model.predict(X_val)"
   ]
  },
  {
   "cell_type": "code",
   "execution_count": 26,
   "metadata": {},
   "outputs": [
    {
     "name": "stdout",
     "output_type": "stream",
     "text": [
      "Train data \n",
      " [[173477  65409]\n",
      " [ 90343 148543]]\n",
      "Validation data \n",
      " [[69293 26220]\n",
      " [ 5147  8229]]\n"
     ]
    }
   ],
   "source": [
    "#혼돈행렬\n",
    "print(\"Train data\",\"\\n\",confusion_matrix(y_resampled, model.predict(X_resampled)))\n",
    "print(\"Validation data\",\"\\n\",confusion_matrix(y_val, y_pred_nb))"
   ]
  },
  {
   "cell_type": "code",
   "execution_count": 27,
   "metadata": {
    "scrolled": true
   },
   "outputs": [
    {
     "name": "stdout",
     "output_type": "stream",
     "text": [
      "              precision    recall  f1-score   support\n",
      "\n",
      "           0       0.93      0.73      0.82     95513\n",
      "           1       0.24      0.62      0.34     13376\n",
      "\n",
      "    accuracy                           0.71    108889\n",
      "   macro avg       0.58      0.67      0.58    108889\n",
      "weighted avg       0.85      0.71      0.76    108889\n",
      "\n"
     ]
    }
   ],
   "source": [
    "# 정확도, 재현율, f1 점수\n",
    "print(classification_report(y_val, y_pred_nb))"
   ]
  },
  {
   "cell_type": "markdown",
   "metadata": {},
   "source": [
    "# 선정된 모델 최적 parameter 확인"
   ]
  },
  {
   "cell_type": "code",
   "execution_count": 12,
   "metadata": {},
   "outputs": [
    {
     "name": "stdout",
     "output_type": "stream",
     "text": [
      "최적 하이퍼 파라미터:  {'max_depth': 80, 'min_samples_leaf': 6, 'min_samples_split': 8, 'n_estimators': 100}\n",
      "최고 예측 정확도: 0.8614\n"
     ]
    }
   ],
   "source": [
    "from sklearn.model_selection import GridSearchCV\n",
    "\n",
    "params = { 'n_estimators' : [10, 100],\n",
    "           'max_depth' : [30, 60, 80],\n",
    "           'min_samples_leaf' : [6, 8, 12, 18],\n",
    "           'min_samples_split' : [8, 16, 20]\n",
    "            }\n",
    "\n",
    "# RandomForestClassifier 객체 생성 후 GridSearchCV 수행\n",
    "rf_clf = RandomForestClassifier(random_state = 0, n_jobs = -1)\n",
    "grid_cv = GridSearchCV(rf_clf, param_grid = params, cv = 3, n_jobs = -1)\n",
    "grid_cv.fit(X_resampled, y_resampled)\n",
    "\n",
    "print('최적 하이퍼 파라미터: ', grid_cv.best_params_)\n",
    "print('최고 예측 정확도: {:.4f}'.format(grid_cv.best_score_))"
   ]
  },
  {
   "cell_type": "markdown",
   "metadata": {},
   "source": [
    "# 선정된 모델로 test data 예측 수행\n",
    "### model: random forest"
   ]
  },
  {
   "cell_type": "code",
   "execution_count": 13,
   "metadata": {},
   "outputs": [],
   "source": [
    "y_pred_RF = grid_cv.predict(X_test)"
   ]
  },
  {
   "cell_type": "code",
   "execution_count": 14,
   "metadata": {},
   "outputs": [
    {
     "name": "stdout",
     "output_type": "stream",
     "text": [
      "Test data\n",
      " [[79965 20276]\n",
      " [ 4197  9895]]\n"
     ]
    }
   ],
   "source": [
    "# 혼동행렬\n",
    "print(\"Test data\\n\",confusion_matrix(y_test, y_pred_RF))"
   ]
  },
  {
   "cell_type": "code",
   "execution_count": 15,
   "metadata": {},
   "outputs": [
    {
     "name": "stdout",
     "output_type": "stream",
     "text": [
      "              precision    recall  f1-score   support\n",
      "\n",
      "           0       0.95      0.80      0.87    100241\n",
      "           1       0.33      0.70      0.45     14092\n",
      "\n",
      "    accuracy                           0.79    114333\n",
      "   macro avg       0.64      0.75      0.66    114333\n",
      "weighted avg       0.87      0.79      0.82    114333\n",
      "\n"
     ]
    }
   ],
   "source": [
    "# 정확도, 재현율, f1 점수\n",
    "print(classification_report(y_test, y_pred_RF))"
   ]
  },
  {
   "cell_type": "code",
   "execution_count": null,
   "metadata": {},
   "outputs": [],
   "source": []
  }
 ],
 "metadata": {
  "kernelspec": {
   "display_name": "Python 3",
   "language": "python",
   "name": "python3"
  },
  "language_info": {
   "codemirror_mode": {
    "name": "ipython",
    "version": 3
   },
   "file_extension": ".py",
   "mimetype": "text/x-python",
   "name": "python",
   "nbconvert_exporter": "python",
   "pygments_lexer": "ipython3",
   "version": "3.7.6"
  }
 },
 "nbformat": 4,
 "nbformat_minor": 4
}
